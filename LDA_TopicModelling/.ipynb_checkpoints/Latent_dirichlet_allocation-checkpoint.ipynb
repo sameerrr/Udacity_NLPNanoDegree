{
 "cells": [
  {
   "cell_type": "markdown",
   "metadata": {},
   "source": [
    "## Step 0: Latent Dirichlet Allocation ##\n",
    "\n",
    "LDA is used to classify text in a document to a particular topic. It builds a topic per document model and words per topic model, modeled as Dirichlet distributions. \n",
    "\n",
    "* Each document is modeled as a multinomial distribution of topics and each topic is modeled as a multinomial distribution of words.\n",
    "* LDA assumes that the every chunk of text we feed into it will contain words that are somehow related. Therefore choosing the right corpus of data is crucial. \n",
    "* It also assumes documents are produced from a mixture of topics. Those topics then generate words based on their probability distribution. "
   ]
  },
  {
   "cell_type": "markdown",
   "metadata": {},
   "source": [
    "## Step 1: Load the dataset\n",
    "\n",
    "The dataset we'll use is a list of over one million news headlines published over a period of 15 years. We'll start by loading it from the `abcnews-date-text.csv` file."
   ]
  },
  {
   "cell_type": "code",
   "execution_count": 1,
   "metadata": {},
   "outputs": [
    {
     "name": "stdout",
     "output_type": "stream",
     "text": [
      "There are 1,103,665 rows and 2 columns in dataset.\n"
     ]
    }
   ],
   "source": [
    "'''\n",
    "Load the dataset from the CSV and save it to 'data_text'\n",
    "'''\n",
    "import pandas as pd\n",
    "data = pd.read_csv('abcnews-date-text.csv', error_bad_lines=False);\n",
    "print(\"There are {:,} rows and {} columns in dataset.\".format(data.shape[0], data.shape[1]))"
   ]
  },
  {
   "cell_type": "code",
   "execution_count": 2,
   "metadata": {},
   "outputs": [
    {
     "name": "stdout",
     "output_type": "stream",
     "text": [
      "There are two columns in the dataset: publish_date and headline_text\n"
     ]
    }
   ],
   "source": [
    "# Prining the names of two columns\n",
    "print(\"There are two columns in the dataset: {} and {}\".format(data.columns[0], data.columns[1]))"
   ]
  },
  {
   "cell_type": "code",
   "execution_count": 3,
   "metadata": {},
   "outputs": [],
   "source": [
    "# We only need the Headlines text column from the data\n",
    "data_text = data[:500][['headline_text']];\n",
    "data_text['index'] = data_text.index\n",
    "\n",
    "documents = data_text"
   ]
  },
  {
   "cell_type": "markdown",
   "metadata": {},
   "source": [
    "Let's glance at the dataset:"
   ]
  },
  {
   "cell_type": "code",
   "execution_count": 4,
   "metadata": {},
   "outputs": [
    {
     "name": "stdout",
     "output_type": "stream",
     "text": [
      "500\n"
     ]
    }
   ],
   "source": [
    "'''\n",
    "Get the total number of documents\n",
    "'''\n",
    "print(len(documents))"
   ]
  },
  {
   "cell_type": "code",
   "execution_count": 5,
   "metadata": {},
   "outputs": [
    {
     "data": {
      "text/html": [
       "<div>\n",
       "<style scoped>\n",
       "    .dataframe tbody tr th:only-of-type {\n",
       "        vertical-align: middle;\n",
       "    }\n",
       "\n",
       "    .dataframe tbody tr th {\n",
       "        vertical-align: top;\n",
       "    }\n",
       "\n",
       "    .dataframe thead th {\n",
       "        text-align: right;\n",
       "    }\n",
       "</style>\n",
       "<table border=\"1\" class=\"dataframe\">\n",
       "  <thead>\n",
       "    <tr style=\"text-align: right;\">\n",
       "      <th></th>\n",
       "      <th>headline_text</th>\n",
       "      <th>index</th>\n",
       "    </tr>\n",
       "  </thead>\n",
       "  <tbody>\n",
       "    <tr>\n",
       "      <th>0</th>\n",
       "      <td>aba decides against community broadcasting lic...</td>\n",
       "      <td>0</td>\n",
       "    </tr>\n",
       "    <tr>\n",
       "      <th>1</th>\n",
       "      <td>act fire witnesses must be aware of defamation</td>\n",
       "      <td>1</td>\n",
       "    </tr>\n",
       "    <tr>\n",
       "      <th>2</th>\n",
       "      <td>a g calls for infrastructure protection summit</td>\n",
       "      <td>2</td>\n",
       "    </tr>\n",
       "    <tr>\n",
       "      <th>3</th>\n",
       "      <td>air nz staff in aust strike for pay rise</td>\n",
       "      <td>3</td>\n",
       "    </tr>\n",
       "    <tr>\n",
       "      <th>4</th>\n",
       "      <td>air nz strike to affect australian travellers</td>\n",
       "      <td>4</td>\n",
       "    </tr>\n",
       "  </tbody>\n",
       "</table>\n",
       "</div>"
      ],
      "text/plain": [
       "                                       headline_text  index\n",
       "0  aba decides against community broadcasting lic...      0\n",
       "1     act fire witnesses must be aware of defamation      1\n",
       "2     a g calls for infrastructure protection summit      2\n",
       "3           air nz staff in aust strike for pay rise      3\n",
       "4      air nz strike to affect australian travellers      4"
      ]
     },
     "execution_count": 5,
     "metadata": {},
     "output_type": "execute_result"
    }
   ],
   "source": [
    "documents[:5]"
   ]
  },
  {
   "cell_type": "markdown",
   "metadata": {},
   "source": [
    "## Step 2: Data Preprocessing ##\n",
    "\n",
    "We will perform the following steps:\n",
    "\n",
    "* **Tokenization**: Split the text into sentences and the sentences into words. Lowercase the words and remove punctuation.\n",
    "* Words that have fewer than 4 characters are removed.\n",
    "* All **stopwords** are removed.\n",
    "* Words are **lemmatized** - words in third person are changed to first person and verbs in past and future tenses are changed into present.\n",
    "* Words are **stemmed** - words are reduced to their root form (removed from notbook, since Spacy does not support stemming)\n"
   ]
  },
  {
   "cell_type": "code",
   "execution_count": 6,
   "metadata": {},
   "outputs": [],
   "source": [
    "'''\n",
    "Loading spacy library\n",
    "'''\n",
    "import spacy\n",
    "import numpy as np\n",
    "np.random.seed(400)"
   ]
  },
  {
   "cell_type": "code",
   "execution_count": 7,
   "metadata": {},
   "outputs": [],
   "source": [
    "# Loading english small model\n",
    "nlp = spacy.load(\"en_core_web_sm\")"
   ]
  },
  {
   "cell_type": "markdown",
   "metadata": {},
   "source": [
    "### Lemmatizer Example\n",
    "Before preprocessing our dataset, let's first look at an lemmatizing example. "
   ]
  },
  {
   "cell_type": "code",
   "execution_count": 8,
   "metadata": {},
   "outputs": [
    {
     "name": "stdout",
     "output_type": "stream",
     "text": [
      "To to to\n",
      "be be be\n",
      "or or or\n",
      "not not not\n",
      "to to to\n",
      "be be be\n",
      "is is be\n",
      "the the the\n",
      "question question question\n"
     ]
    }
   ],
   "source": [
    "my_doc = nlp(\"To be or not to be is the question\")\n",
    "for token in my_doc:\n",
    "    # print(token, token.lemma)\n",
    "    print(token, token.lower_, token.lemma_)"
   ]
  },
  {
   "cell_type": "code",
   "execution_count": 85,
   "metadata": {},
   "outputs": [],
   "source": [
    "'''\n",
    "Write a function to perform the pre processing steps on the entire dataset\n",
    "'''\n",
    "# Tokenize, lemmatize and remove stopwords\n",
    "stop_words = nlp.Defaults.stop_words\n",
    "def preprocess(text):\n",
    "    result=[]\n",
    "    text_nlp = nlp(text)\n",
    "    for token in text_nlp:\n",
    "        if len(token) > 2:\n",
    "            result.append(token.lemma_)\n",
    "            \n",
    "    result = [word for word in result if word not in stop_words]    \n",
    "    return result\n",
    "\n"
   ]
  },
  {
   "cell_type": "code",
   "execution_count": 86,
   "metadata": {},
   "outputs": [
    {
     "data": {
      "text/plain": [
       "['quick', 'brown', 'fox', 'jump', 'lazy', 'dog']"
      ]
     },
     "execution_count": 86,
     "metadata": {},
     "output_type": "execute_result"
    }
   ],
   "source": [
    "preprocess(\"The quick brown fox jumps over a lazy dog\")"
   ]
  },
  {
   "cell_type": "code",
   "execution_count": 87,
   "metadata": {},
   "outputs": [
    {
     "name": "stdout",
     "output_type": "stream",
     "text": [
      "Original document: \n",
      "['drought', 'taking', 'toll', 'on', 'insects']\n",
      "\n",
      "\n",
      "Tokenized and lemmatized document: \n",
      "['drought', 'toll', 'insect']\n"
     ]
    }
   ],
   "source": [
    "'''\n",
    "Preview a document after preprocessing\n",
    "'''\n",
    "document_num = 250\n",
    "doc_sample = documents[documents['index'] == document_num].values[0][0]\n",
    "\n",
    "print(\"Original document: \")\n",
    "words = []\n",
    "for word in doc_sample.split(' '):\n",
    "    words.append(word)\n",
    "print(words)\n",
    "print(\"\\n\\nTokenized and lemmatized document: \")\n",
    "print(preprocess(doc_sample))"
   ]
  },
  {
   "cell_type": "markdown",
   "metadata": {},
   "source": [
    "Let's now preprocess all the news headlines we have. To do that, let's use the [map](https://pandas.pydata.org/pandas-docs/stable/generated/pandas.Series.map.html) function from pandas to apply `preprocess()` to the `headline_text` column\n",
    "\n",
    "**Note**: This may take a few minutes (it take 6 minutes on my laptop)"
   ]
  },
  {
   "cell_type": "code",
   "execution_count": 88,
   "metadata": {},
   "outputs": [
    {
     "name": "stdout",
     "output_type": "stream",
     "text": [
      "Time taken to process the document: 18.738136700000723\n"
     ]
    }
   ],
   "source": [
    "import time\n",
    "start_time = time.clock()\n",
    "# TODO: preprocess all the headlines, saving the list of results as 'processed_docs'\n",
    "processed_docs = documents['headline_text'].map(preprocess)\n",
    "time_elapsed = time.clock() - start_time\n",
    "print(\"Time taken to process the document: {}\".format(time_elapsed))"
   ]
  },
  {
   "cell_type": "code",
   "execution_count": 89,
   "metadata": {},
   "outputs": [
    {
     "data": {
      "text/plain": [
       "0      [aba, decide, community, broadcasting, licence]\n",
       "1              [act, fire, witness, aware, defamation]\n",
       "2                 [infrastructure, protection, summit]\n",
       "3                [air, staff, aust, strike, pay, rise]\n",
       "4         [air, strike, affect, australian, traveller]\n",
       "5               [ambitious, olsson, win, triple, jump]\n",
       "6          [antic, delighted, record, breaking, barca]\n",
       "7    [aussie, qualifier, stosur, waste, memphis, ma...\n",
       "8             [aust, address, security, council, iraq]\n",
       "9               [australia, lock, war, timetable, opp]\n",
       "Name: headline_text, dtype: object"
      ]
     },
     "execution_count": 89,
     "metadata": {},
     "output_type": "execute_result"
    }
   ],
   "source": [
    "'''\n",
    "Preview 'processed_docs'\n",
    "'''\n",
    "processed_docs[:10]"
   ]
  },
  {
   "cell_type": "code",
   "execution_count": 15,
   "metadata": {},
   "outputs": [
    {
     "name": "stdout",
     "output_type": "stream",
     "text": [
      "<class 'pandas.core.series.Series'>\n",
      "<class 'list'>\n"
     ]
    }
   ],
   "source": [
    "print(type(processed_docs))\n",
    "print(type(processed_docs[0]))"
   ]
  },
  {
   "cell_type": "markdown",
   "metadata": {},
   "source": [
    "## Step 3: Bag-of-words and TF-iDF on dataset"
   ]
  },
  {
   "cell_type": "code",
   "execution_count": 16,
   "metadata": {},
   "outputs": [
    {
     "ename": "ImportError",
     "evalue": "cannot import name 'TfidfVectorrizer'",
     "output_type": "error",
     "traceback": [
      "\u001b[1;31m---------------------------------------------------------------------------\u001b[0m",
      "\u001b[1;31mImportError\u001b[0m                               Traceback (most recent call last)",
      "\u001b[1;32m<ipython-input-16-0219c96a0b10>\u001b[0m in \u001b[0;36m<module>\u001b[1;34m\u001b[0m\n\u001b[0;32m      1\u001b[0m \u001b[1;31m# Importing libraries\u001b[0m\u001b[1;33m\u001b[0m\u001b[1;33m\u001b[0m\u001b[1;33m\u001b[0m\u001b[0m\n\u001b[1;32m----> 2\u001b[1;33m \u001b[1;32mfrom\u001b[0m \u001b[0msklearn\u001b[0m\u001b[1;33m.\u001b[0m\u001b[0mfeature_extraction\u001b[0m\u001b[1;33m.\u001b[0m\u001b[0mtext\u001b[0m \u001b[1;32mimport\u001b[0m \u001b[0mCountVectorizer\u001b[0m\u001b[1;33m,\u001b[0m \u001b[0mTfidfVectorrizer\u001b[0m\u001b[1;33m\u001b[0m\u001b[1;33m\u001b[0m\u001b[0m\n\u001b[0m",
      "\u001b[1;31mImportError\u001b[0m: cannot import name 'TfidfVectorrizer'"
     ]
    }
   ],
   "source": [
    "# Importing libraries\n",
    "from sklearn.feature_extraction.text import CountVectorizer, TfidfVectorrizer"
   ]
  },
  {
   "cell_type": "markdown",
   "metadata": {},
   "source": [
    "### Step 3.1: Word count on the entire dataset\n",
    "\n",
    "Now let's create a dictionary from 'processed_docs' containing the number of times a word appears in the training set. "
   ]
  },
  {
   "cell_type": "code",
   "execution_count": null,
   "metadata": {},
   "outputs": [],
   "source": [
    "'''\n",
    "Create a dictionary from 'processed_docs' containing the number of times a word appears \n",
    "in the training set and call it 'dictionary'\n",
    "'''\n",
    "# TODO\n",
    "dictionary = {'the':2, 'a': 5, 'team':67}"
   ]
  },
  {
   "cell_type": "code",
   "execution_count": null,
   "metadata": {},
   "outputs": [],
   "source": [
    "'''\n",
    "Checking dictionary created\n",
    "'''\n",
    "count = 0\n",
    "for k, v in dictionary.iteritems():\n",
    "    print(k, v)\n",
    "    count += 1\n",
    "    if count > 10:\n",
    "        break"
   ]
  },
  {
   "cell_type": "markdown",
   "metadata": {},
   "source": [
    "** Gensim filter_extremes **\n",
    "\n",
    "[`filter_extremes(no_below=5, no_above=0.5, keep_n=100000)`](https://radimrehurek.com/gensim/corpora/dictionary.html#gensim.corpora.dictionary.Dictionary.filter_extremes)\n",
    "\n",
    "Filter out tokens that appear in\n",
    "\n",
    "* less than no_below documents (absolute number) or\n",
    "* more than no_above documents (fraction of total corpus size, not absolute number).\n",
    "* after (1) and (2), keep only the first keep_n most frequent tokens (or keep all if None)."
   ]
  },
  {
   "cell_type": "code",
   "execution_count": null,
   "metadata": {},
   "outputs": [],
   "source": [
    "'''\n",
    "OPTIONAL STEP\n",
    "Remove very rare and very common words:\n",
    "\n",
    "- words appearing less than 15 times\n",
    "- words appearing in more than 10% of all documents\n",
    "'''\n",
    "# TODO: apply dictionary.filter_extremes() with the parameters mentioned above\n"
   ]
  },
  {
   "cell_type": "markdown",
   "metadata": {},
   "source": [
    "### Step 3.2 Sklearn bag-of word using Count"
   ]
  },
  {
   "cell_type": "code",
   "execution_count": 90,
   "metadata": {},
   "outputs": [
    {
     "name": "stdout",
     "output_type": "stream",
     "text": [
      "['100th', '120bn', '250', '2500', '260', '300', '302', '314', '353', '370', '50000', '61st', 'ab', 'aba', 'abandon', 'abattoir', 'aboard', 'aboriginal', 'academic', 'accc', 'access', 'accident', 'accidental', 'accusation', 'accuse', 'acid', 'acquit', 'act', 'action', 'address', 'adelaide', 'administrator', 'adventure', 'advertising', 'aec', 'aek', 'affect', 'afl', 'africa', 'agree', 'agreement', 'agriculture', 'ahead', 'aid', 'air', 'aircraft', 'airport', 'ajax', 'alcohol', 'alcoholic', 'alinghi', 'alive', 'allan', 'allege', 'allegedly', 'alliance', 'allocate', 'allocation', 'allow', 'alp', 'alternative', 'ama', 'ambitious', 'ambo', 'ambulance', 'amcor', 'america', 'andersson', 'anger', 'angler', 'angry', 'ankle', 'anniversary', 'announce', 'antarctic', 'anti', 'antic', 'anz', 'apologise', 'appeal', 'appoint', 'arab', 'arabia', 'arabian', 'area', 'arm', 'armed', 'army', 'arrest', 'arrive', 'arrogance', 'arsenal', 'art', 'asia', 'asian', 'ask', 'assurance', 'asylum', 'atp', 'attack', 'attempt', 'attend', 'attendant', 'atwal', 'aussie', 'aust', 'austeel', 'australia', 'australian', 'authority', 'autopsy', 'avenge', 'avoid', 'await', 'award', 'aware', 'away', 'awu', 'ayr', 'baby', 'backpacker', 'bad', 'badly', 'bail', 'ban', 'bangkok', 'bank', 'bar', 'barca', 'bartlett', 'basel', 'bathhouse', 'battle', 'bay', 'beattie', 'beckham', 'bedi', 'begin', 'belgian', 'belittle', 'benefit', 'beware', 'bhp', 'bid', 'big', 'bikeway', 'bilby', 'bill', 'birthday', 'blair', 'blake', 'blame', 'blaze', 'blend', 'blizzard', 'blob', 'block', 'blood', 'boat', 'bombing', 'book', 'boost', 'boss', 'bougainville', 'boulder', 'bounce', 'boundary', 'bowling', 'boy', 'brack', 'brawl', 'break', 'breaking', 'breakthrough', 'breed', 'bridge', 'brigadier', 'bring', 'bris', 'brisbane', 'britain', 'british', 'briton', 'broadcasting', 'brogden', 'broken', 'brom', 'brothel', 'brother', 'bryant', 'buchanan', 'bueno', 'build', 'building', 'bundaberg', 'bungle', 'buoyant', 'burger', 'burie', 'burma', 'burmese', 'burn', 'bush', 'bushfire', 'bushwalker', 'business', 'buy', 'bypass', 'cadell', 'cairn', 'calleri', 'camp', 'campaign', 'canada', 'canberra', 'cancel', 'candleholder', 'canegrower', 'cannabis', 'canola', 'canvass', 'cap', 'capriati', 'car', 'card', 'carew', 'carr', 'case', 'cash', 'cattle', 'cause', 'celebrate', 'celt', 'cemetery', 'central', 'centre', 'centrelink', 'challenge', 'challenger', 'chamber', 'championship', 'change', 'charge', 'charter', 'charvis', 'check', 'cheese', 'chemical', 'chew', 'chief', 'child', 'childhood', 'china', 'chirac', 'choke', 'chop', 'christmas', 'chucker', 'church', 'claim', 'clash', 'class', 'classic', 'clean', 'cleaning', 'clear', 'clearance', 'clearing', 'climb', 'clinton', 'cloning', 'close', 'closure', 'club', 'coach', 'coalition', 'coast', 'cocktail', 'code', 'colleague', 'college', 'combat', 'come', 'comeback', 'commonplace', 'commonwealth', 'community', 'compo', 'compromise', 'concern', 'concorde', 'condemn', 'condemnation', 'conduct', 'confidence', 'confident', 'conflict', 'confront', 'consent', 'conservation', 'consider', 'contain', 'container', 'contest', 'continue', 'contribute', 'contribution', 'control', 'conviction', 'cooma', 'coroner', 'coronial', 'cossack', 'cost', 'costa', 'cough', 'council', 'councillor', 'counselling', 'country', 'court', 'cover', 'crab', 'crack', 'crash', 'crayfish', 'crean', 'credit', 'creek', 'creep', 'crew', 'crime', 'crisis', 'cristal', 'critic', 'criticism', 'crop', 'cross', 'crown', 'cup', 'cuper', 'cut', 'cycling', 'cylinder', 'daily', 'dairy', 'dam', 'damage', 'danger', 'dargo', 'darwin', 'date', 'day', 'dead', 'deal', 'dean', 'death', 'debate', 'debut', 'decide', 'decision', 'declare', 'decline', 'defamation', 'defaulter', 'defeat', 'defence', 'defend', 'delay', 'delighted', 'deliver', 'dem', 'demand', 'den', 'denmark', 'dent', 'deny', 'deplete', 'deportivo', 'deposit', 'despite', 'destine', 'destroy', 'detail', 'detain', 'detention', 'detract', 'development', 'die', 'digital', 'dioxin', 'direct', 'disaster', 'discover', 'discrimination', 'discussion', 'disease', 'disgraceful', 'disgust', 'dismiss', 'display', 'dispute', 'distance', 'disunity', 'division', 'dixon', 'doctor', 'dog', 'dollar', 'domestic', 'donation', 'doorstep', 'double', 'doubt', 'downer', 'downpour', 'draw', 'dream', 'drift', 'drink', 'driver', 'drop', 'drought', 'drug', 'dubai', 'dump', 'early', 'earn', 'ease', 'east', 'economic', 'economist', 'economy', 'edge', 'educate', 'education', 'effect', 'effort', 'eis', 'elect', 'election', 'eliminate', 'ellis', 'elster', 'embassy', 'emergency', 'employee', 'encourage', 'end', 'engine', 'england', 'enterprise', 'entomb', 'entry', 'environment', 'epa', 'escude', 'esso', 'ethanol', 'etienne', 'europe', 'executive', 'expand', 'expect', 'expedition', 'experience', 'expert', 'explore', 'export', 'exporter', 'expression', 'face', 'facility', 'fail', 'family', 'fan', 'far', 'farmer', 'fatal', 'fate', 'favourite', 'fear', 'feature', 'fed', 'federal', 'fee', 'feed', 'feel', 'feeling', 'ferguson', 'fiance', 'field', 'fifa', 'fight', 'fighter', 'final', 'finance', 'find', 'fine', 'fire', 'firefighter', 'firm', 'fish', 'fisherman', 'fishing', 'fix', 'flag', 'flak', 'flight', 'flood', 'flower', 'focus', 'follow', 'force', 'forest', 'formula', 'forum', 'fourth', 'france', 'fraud', 'freak', 'freedom', 'french', 'friday', 'frustrate', 'fuel', 'fulham', 'fume', 'fund', 'funding', 'furniture', 'future', 'gain', 'gallery', 'ganguly', 'garden', 'gartner', 'gas', 'gauge', 'gaza', 'gelez', 'general', 'german', 'gilchrist', 'gippsland', 'girl', 'gladstone', 'glenelg', 'global', 'goal', 'goalless', 'gold', 'golf', 'good', 'govt', 'govts', 'grab', 'grant', 'green', 'greenpeace', 'griffith', 'grossly', 'group', 'grow', 'growth', 'guard', 'guatemala', 'guilty', 'gulf', 'gum', 'gun', 'hacker', 'hagan', 'hail', 'hama', 'hand', 'handle', 'hanson', 'harass', 'harassment', 'harrington', 'harvest', 'harvester', 'hat', 'head', 'health', 'hear', 'hearing', 'heavy', 'hectare', 'help', 'heritage', 'high', 'highlight', 'highly', 'highway', 'hijack', 'hill', 'hindrance', 'hire', 'hit', 'hold', 'holden', 'home', 'homeland', 'homeless', 'honour', 'hook', 'hope', 'hospital', 'hot', 'hotel', 'houlli', 'house', 'howard', 'human', 'humphrey', 'hungry', 'hurt', 'hussein', 'identify', 'illegal', 'immigration', 'impact', 'impatience', 'impose', 'improve', 'incident', 'include', 'increase', 'incursion', 'independent', 'india', 'indigenous', 'industry', 'indy', 'inevitable', 'infrastructure', 'injure', 'injured', 'injury', 'inquest', 'inquiry', 'insect', 'inspect', 'inspection', 'insurance', 'intake', 'inter', 'interest', 'international', 'introduce', 'inventory', 'invest', 'investigate', 'investigation', 'investor', 'invite', 'iran', 'iranian', 'iraq', 'iraqi', 'iraqs', 'ireland', 'irish', 'irrigator', 'island', 'islander', 'israeli', 'issue', 'italy', 'jail', 'japanese', 'jeer', 'jittery', 'job', 'join', 'journalist', 'jump', 'junta', 'jury', 'juve', 'juvenile', 'kalgoorlie', 'kayaker', 'kelly', 'kembla', 'keno', 'kenya', 'key', 'kill', 'king', 'kingfisher', 'kirwan', 'kit', 'kiwi', 'knife', 'knock', 'korean', 'kuwait', 'kyi', 'label', 'labor', 'lady', 'laker', 'lament', 'land', 'landfill', 'landholder', 'landing', 'late', 'launceston', 'launch', 'lawyer', 'lead', 'leadership', 'league', 'learn', 'lease', 'leave', 'legal', 'lend', 'lethal', 'levy', 'liberal', 'libertadore', 'libs', 'licence', 'lift', 'light', 'likely', 'line', 'link', 'lion', 'list', 'live', 'livestock', 'loan', 'lobby', 'local', 'locate', 'lock', 'lokomotiv', 'longford', 'look', 'loom', 'lose', 'loss', 'low', 'lower', 'macarthur', 'magic', 'magician', 'malaga', 'malaysia', 'man', 'management', 'manager', 'manus', 'marangaroo', 'march', 'mark', 'market', 'maroney', 'martin', 'massive', 'massu', 'mast', 'master', 'match', 'maul', 'mayor', 'mccain', 'medal', 'meet', 'meeting', 'melb', 'melbourne', 'member', 'memphis', 'men', 'merceron', 'metal', 'mgladbach', 'milan', 'military', 'mill', 'million', 'minardis', 'miner', 'minimal', 'minister', 'ministerial', 'minnow', 'minor', 'minute', 'miss', 'moderate', 'molotov', 'monitor', 'monopoly', 'month', 'monument', 'morris', 'mosley', 'motorist', 'mud', 'mugabe', 'murali', 'murder', 'murray', 'naive', 'narrow', 'nat', 'nation', 'national', 'native', 'nato', 'nbl', 'nca', 'near', 'necessary', 'need', 'negative', 'neighbour', 'net', 'new', 'newcastle', 'newsagency', 'nicaragua', 'nickel', 'nightclub', 'nominate', 'noosa', 'north', 'northern', 'nsw', 'nth', 'nuclear', 'number', 'nurse', 'nursing', 'offender', 'offer', 'office', 'oil', 'old', 'oldfield', 'olonga', 'olsson', 'olympic', 'omagh', 'omodei', 'oneill', 'onesteel', 'open', 'opp', 'opposition', 'order', 'ords', 'organ', 'orientation', 'osullivan', 'outgoing', 'outrage', 'overseas', 'overtime', 'overturn', 'owen', 'owner', 'pack', 'packer', 'pagan', 'paint', 'pair', 'pakistani', 'palaszczuk', 'palestinian', 'panic', 'paradorn', 'paris', 'park', 'parliament', 'parliamentary', 'paroo', 'passenger', 'patterson', 'paul', 'pay', 'payout', 'peace', 'pellet', 'penalty', 'penrith', 'pension', 'people', 'peru', 'petrol', 'pga', 'philippine', 'philippoussi', 'phone', 'pienaar', 'pile', 'pilot', 'piracy', 'pistol', 'place', 'plan', 'plane', 'planning', 'plant', 'plantation', 'platform', 'play', 'player', 'plead', 'pleased', 'plebiscite', 'pledge', 'png', 'point', 'poise', 'police', 'policewoman', 'policy', 'politic', 'politician', 'poll', 'polling', 'pollock', 'pop', 'population', 'port', 'pose', 'position', 'post', 'postpone', 'potato', 'potential', 'powell', 'power', 'practise', 'praise', 'pre', 'predict', 'prediction', 'premier', 'prepare', 'preselection', 'president', 'press', 'price', 'priority', 'probe', 'processing', 'production', 'profit', 'program', 'project', 'promise', 'prostitution', 'protea', 'protect', 'protection', 'protest', 'protester', 'protocol', 'public', 'pudding', 'pull', 'pumping', 'pursuit', 'push', 'qaeda', 'qanta', 'qantas', 'qfvg', 'qld', 'qualifier', 'quash', 'question', 'quickfire', 'quit', 'rabbit', 'race', 'racing', 'radioactive', 'raid', 'rain', 'raise', 'rally', 'ram', 'ranking', 'rape', 'raring', 'rate', 'rating', 'reach', 'reading', 'ready', 'real', 'reality', 'rebel', 'rebuild', 'recall', 'receive', 'recherche', 'recoba', 'recognise', 'record', 'recover', 'recovery', 'red', 'redundancy', 'reef', 'reform', 'refshauge', 'refuse', 'regional', 'regulation', 'regulator', 'reject', 'release', 'relief', 'remain', 'remember', 'reoffend', 'reopen', 'report', 'reporter', 'rescue', 'research', 'resident', 'resolution', 'resource', 'respite', 'responsible', 'rest', 'restart', 'restore', 'restraining', 'restraint', 'restriction', 'result', 'retail', 'retire', 'reveal', 'review', 'reward', 'rfs', 'rhh', 'rhode', 'ricciuto', 'rice', 'richmond', 'rio', 'rise', 'risk', 'river', 'road', 'robbery', 'robson', 'rock', 'rocket', 'roddick', 'roll', 'roma', 'ronaldo', 'rookie', 'rotterdam', 'rout', 'route', 'roxby', 'rsl', 'ruin', 'ruiz', 'rule', 'ruling', 'run', 'rush', 'sack', 'sacking', 'safety', 'saff', 'safin', 'sale', 'sanctuary', 'saudi', 'scam', 'scare', 'schedule', 'schmeichel', 'school', 'scientist', 'scoring', 'scot', 'scotland', 'scrap', 'seaman', 'search', 'season', 'seat', 'second', 'secure', 'security', 'seed', 'seek', 'selection', 'self', 'senior', 'sentence', 'sentiment', 'sept', 'service', 'set', 'seven', 'sex', 'shadow', 'share', 'shark', 'sheep', 'shield', 'shine', 'shire', 'shock', 'shortly', 'shuffle', 'shut', 'sideline', 'sign', 'single', 'sink', 'site', 'skatepark', 'skid', 'slam', 'slip', 'slow', 'smash', 'smithton', 'smoke', 'smoking', 'snake', 'sneak', 'snowtown', 'snub', 'socceroo', 'solar', 'soldier', 'solid', 'soon', 'sparkie', 'speak', 'specie', 'spending', 'spill', 'split', 'sport', 'spot', 'springborg', 'spurn', 'stab', 'staff', 'stage', 'stand', 'standard', 'start', 'state', 'station', 'stay', 'steal', 'steelwork', 'steer', 'step', 'sterrey', 'sth', 'stick', 'stock', 'stone', 'stop', 'storage', 'stosur', 'stray', 'streak', 'strike', 'strip', 'strong', 'student', 'study', 'stuttgart', 'subway', 'successive', 'suffer', 'sugar', 'suicide', 'summer', 'summit', 'sun', 'supply', 'support', 'surge', 'surgery', 'surprised', 'survey', 'suspect', 'suu', 'swimmer', 'swiss', 'swoop', 'ta', 'tab', 'tabcorp', 'tackle', 'taipan', 'talk', 'target', 'tas', 'task', 'tasmanian', 'tax', 'taxi', 'taylor', 'teacher', 'teen', 'tell', 'tension', 'tent', 'terminal', 'territory', 'terror', 'terrorist', 'testing', 'thank', 'thatcher', 'theft', 'thousand', 'threat', 'threaten', 'thriller', 'thursday', 'tick', 'tie', 'tight', 'timber', 'time', 'timetable', 'timid', 'tip', 'tissue', 'tnz', 'today', 'toddler', 'toll', 'tomasson', 'touch', 'tough', 'toughen', 'tourism', 'tower', 'track', 'trade', 'trail', 'trap', 'traveller', 'trawler', 'treasurer', 'tree', 'trial', 'triathlete', 'trick', 'trio', 'trip', 'triple', 'troop', 'truancy', 'truck', 'try', 'tunnel', 'turkey', 'turn', 'tyson', 'uefa', 'unaware', 'unchanged', 'undecided', 'underage', 'underdog', 'undergoe', 'underway', 'unemployment', 'unhelpful', 'uni', 'union', 'united', 'unlikely', 'unpopularity', 'upbeat', 'upgrade', 'upset', 'urge', 'use', 'user', 'uzbek', 'vaccine', 'vandalism', 'vegetable', 'vegetation', 'venezuela', 'venture', 'verdict', 'verstappen', 'vff', 'vic', 'victim', 'victorian', 'victory', 'villier', 'violence', 'visa', 'visit', 'vote', 'vow', 'vowle', 'wage', 'wait', 'wake', 'wale', 'want', 'war', 'warming', 'warn', 'warne', 'warrior', 'waste', 'water', 'waterway', 'watkin', 'waugh', 'way', 'weapon', 'weather', 'webb', 'week', 'welcome', 'west', 'western', 'whack', 'wheatbelt', 'white', 'whooping', 'whyalla', 'wide', 'widne', 'wildlife', 'william', 'win', 'wind', 'wine', 'winemaker', 'withdraw', 'witness', 'wmcs', 'woe', 'wollongong', 'woman', 'work', 'worker', 'worksafe', 'world', 'wto', 'yacht', 'year', 'young', 'youth', 'zealand', 'zimbabwe', 'zone']\n"
     ]
    }
   ],
   "source": [
    "'''\n",
    "Create the Bag-of-words model for each document i.e for each document we create a dictionary reporting how many\n",
    "words and how many times those words appear. Save this to 'bow_corpus'\n",
    "'''\n",
    "# TODO\n",
    "bow_obj = CountVectorizer(analyzer=lambda x: x)\n",
    "docs = bow_obj.fit_transform(processed_docs)\n",
    "bow_corpus = bow_obj.get_feature_names()\n",
    "print(bow_corpus)"
   ]
  },
  {
   "cell_type": "code",
   "execution_count": 50,
   "metadata": {},
   "outputs": [
    {
     "data": {
      "text/plain": [
       "list"
      ]
     },
     "execution_count": 50,
     "metadata": {},
     "output_type": "execute_result"
    }
   ],
   "source": [
    "type(bow_corpus)"
   ]
  },
  {
   "cell_type": "code",
   "execution_count": 18,
   "metadata": {},
   "outputs": [
    {
     "data": {
      "text/plain": [
       "1459"
      ]
     },
     "execution_count": 18,
     "metadata": {},
     "output_type": "execute_result"
    }
   ],
   "source": [
    "len(bow_corpus)"
   ]
  },
  {
   "cell_type": "markdown",
   "metadata": {},
   "source": [
    "## Step 3.2: TF-IDF on our document set ##\n",
    "\n",
    "While performing TF-IDF on the corpus is not necessary for LDA implemention using the gensim model, it is recemmended. TF-IDF expects a bag-of-words (integer values) training corpus during initialization. During transformation, it will take a vector and return another vector of the same dimensionality.\n",
    "\n",
    "*Please note: The author of Gensim dictates the standard procedure for LDA to be using the Bag of Words model.*"
   ]
  },
  {
   "cell_type": "markdown",
   "metadata": {},
   "source": [
    "** TF-IDF stands for \"Term Frequency, Inverse Document Frequency\".**\n",
    "\n",
    "* It is a way to score the importance of words (or \"terms\") in a document based on how frequently they appear across multiple documents.\n",
    "* If a word appears frequently in a document, it's important. Give the word a high score. But if a word appears in many documents, it's not a unique identifier. Give the word a low score.\n",
    "* Therefore, common words like \"the\" and \"for\", which appear in many documents, will be scaled down. Words that appear frequently in a single document will be scaled up.\n",
    "\n",
    "In other words:\n",
    "\n",
    "* TF(w) = `(Number of times term w appears in a document) / (Total number of terms in the document)`.\n",
    "* IDF(w) = `log_e(Total number of documents / Number of documents with term w in it)`.\n",
    "\n",
    "** For example **\n",
    "\n",
    "* Consider a document containing `100` words wherein the word 'tiger' appears 3 times. \n",
    "* The term frequency (i.e., tf) for 'tiger' is then: \n",
    "    - `TF = (3 / 100) = 0.03`. \n",
    "\n",
    "* Now, assume we have `10 million` documents and the word 'tiger' appears in `1000` of these. Then, the inverse document frequency (i.e., idf) is calculated as:\n",
    "    - `IDF = log(10,000,000 / 1,000) = 4`. \n",
    "\n",
    "* Thus, the Tf-idf weight is the product of these quantities: \n",
    "    - `TF-IDF = 0.03 * 4 = 0.12`."
   ]
  },
  {
   "cell_type": "code",
   "execution_count": null,
   "metadata": {},
   "outputs": [],
   "source": [
    "'''\n",
    "Create tf-idf model object using models.TfidfModel on 'bow_corpus' and save it to 'tfidf'\n",
    "'''\n",
    "from gensim import corpora, models\n",
    "\n",
    "# TODO\n",
    "tfidf = "
   ]
  },
  {
   "cell_type": "code",
   "execution_count": null,
   "metadata": {},
   "outputs": [],
   "source": [
    "'''\n",
    "Apply transformation to the entire corpus and call it 'corpus_tfidf'\n",
    "'''\n",
    "# TODO\n",
    "corpus_tfidf = "
   ]
  },
  {
   "cell_type": "code",
   "execution_count": null,
   "metadata": {},
   "outputs": [],
   "source": [
    "'''\n",
    "Preview TF-IDF scores for our first document --> --> (token_id, tfidf score)\n",
    "'''\n",
    "from pprint import pprint\n",
    "for doc in corpus_tfidf:\n",
    "    pprint(doc)\n",
    "    break"
   ]
  },
  {
   "cell_type": "markdown",
   "metadata": {},
   "source": [
    "## Running LDA"
   ]
  },
  {
   "cell_type": "code",
   "execution_count": 23,
   "metadata": {},
   "outputs": [],
   "source": [
    "# Importing libraries\n",
    "from sklearn.decomposition import LatentDirichletAllocation, NMF "
   ]
  },
  {
   "cell_type": "markdown",
   "metadata": {},
   "source": [
    "###  Step 4.1: Running LDA using Bag of Words ##\n",
    "\n",
    "We are going for 10 topics in the document corpus.\n",
    "\n",
    "** We will be running LDA using all CPU cores to parallelize and speed up model training.**\n"
   ]
  },
  {
   "cell_type": "code",
   "execution_count": 91,
   "metadata": {},
   "outputs": [
    {
     "data": {
      "text/plain": [
       "LatentDirichletAllocation(max_iter=5, n_components=5)"
      ]
     },
     "execution_count": 91,
     "metadata": {},
     "output_type": "execute_result"
    }
   ],
   "source": [
    "# LDA multicore \n",
    "'''\n",
    "abc\n",
    "'''\n",
    "# TODO\n",
    "lda_model = LatentDirichletAllocation(n_components=5, max_iter=5)\n",
    "lda_model.fit(docs)"
   ]
  },
  {
   "cell_type": "code",
   "execution_count": 92,
   "metadata": {},
   "outputs": [
    {
     "data": {
      "text/plain": [
       "array([[0.20000764, 0.20000878, 0.20001228, ..., 0.20000552, 0.20001369,\n",
       "        1.19997709],\n",
       "       [0.20000688, 1.19996765, 0.20001106, ..., 0.20000516, 0.20001245,\n",
       "        0.20000565],\n",
       "       [0.20000728, 0.20000786, 1.19652871, ..., 0.20000521, 0.20001289,\n",
       "        0.20000558],\n",
       "       [1.19997112, 0.20000762, 0.20343657, ..., 2.19997898, 2.20121512,\n",
       "        0.20000584],\n",
       "       [0.20000708, 0.2000081 , 0.20001138, ..., 0.20000514, 1.19874586,\n",
       "        0.20000584]])"
      ]
     },
     "execution_count": 92,
     "metadata": {},
     "output_type": "execute_result"
    }
   ],
   "source": [
    "lda_model.components_"
   ]
  },
  {
   "cell_type": "code",
   "execution_count": 93,
   "metadata": {},
   "outputs": [
    {
     "data": {
      "text/plain": [
       "array([0.20000764, 0.20000878, 0.20001228, ..., 0.20000552, 0.20001369,\n",
       "       1.19997709])"
      ]
     },
     "execution_count": 93,
     "metadata": {},
     "output_type": "execute_result"
    }
   ],
   "source": [
    "lda_model.components_[0]"
   ]
  },
  {
   "cell_type": "code",
   "execution_count": 94,
   "metadata": {},
   "outputs": [
    {
     "name": "stdout",
     "output_type": "stream",
     "text": [
      "1378\n",
      "1378\n"
     ]
    }
   ],
   "source": [
    "print(len(lda_model.components_[0]))\n",
    "print(len(bow_corpus))"
   ]
  },
  {
   "cell_type": "code",
   "execution_count": 95,
   "metadata": {},
   "outputs": [],
   "source": [
    "'''\n",
    "For each topic, we will explore the words occuring in that topic and its relative weight\n",
    "'''\n",
    "topic_1 = lda_model.components_[0]\n",
    "word_list = bow_corpus"
   ]
  },
  {
   "cell_type": "code",
   "execution_count": 97,
   "metadata": {},
   "outputs": [],
   "source": [
    "import numpy as np\n",
    "sorted_TopicWord = np.argsort(topic_1)[:-20:-1]"
   ]
  },
  {
   "cell_type": "code",
   "execution_count": 98,
   "metadata": {},
   "outputs": [
    {
     "data": {
      "text/plain": [
       "array([1356,  775,  457,  316,  836,   28,  968,  601,  537, 1216, 1010,\n",
       "        888,  698,  554,  985, 1344,  856,   42,  609], dtype=int64)"
      ]
     },
     "execution_count": 98,
     "metadata": {},
     "output_type": "execute_result"
    }
   ],
   "source": [
    "sorted_TopicWord"
   ]
  },
  {
   "cell_type": "code",
   "execution_count": 99,
   "metadata": {},
   "outputs": [
    {
     "name": "stdout",
     "output_type": "stream",
     "text": [
      "win 4.20363635060956\n",
      "meeting 4.201703555086007\n",
      "esso 4.199977305014401\n",
      "council 3.7976765406139528\n",
      "nsw 3.289829458866724\n",
      "action 3.21800573093237\n",
      "public 3.210037932991938\n",
      "hold 3.2078489124874077\n",
      "gas 3.203549928771822\n",
      "target 3.2027111648298936\n",
      "record 3.2026901718408625\n",
      "pay 3.2009435452842414\n",
      "korean 3.2002163729364126\n",
      "govt 3.1961391923290376\n",
      "race 3.1882884869006087\n",
      "welcome 2.8089972430915644\n",
      "opp 2.314321715981768\n",
      "ahead 2.207151433132504\n",
      "hospital 2.206882736330703\n"
     ]
    }
   ],
   "source": [
    "for index in sorted_TopicWord:\n",
    "    word = word_list[index]\n",
    "    value = topic_1[index]\n",
    "    print(word, value)"
   ]
  },
  {
   "cell_type": "markdown",
   "metadata": {},
   "source": [
    "### Classification of the topics ###\n",
    "\n",
    "Using the words in each topic and their corresponding weights, what categories were you able to infer?\n",
    "\n",
    "* 0: \n",
    "* 1: \n",
    "* 2: \n",
    "* 3: \n",
    "* 4: \n",
    "* 5: \n",
    "* 6: \n",
    "* 7:  \n",
    "* 8: \n",
    "* 9: "
   ]
  },
  {
   "cell_type": "markdown",
   "metadata": {},
   "source": [
    "## Step 4.2 Running LDA using TF-IDF ##"
   ]
  },
  {
   "cell_type": "code",
   "execution_count": null,
   "metadata": {},
   "outputs": [],
   "source": [
    "'''\n",
    "Define lda model using corpus_tfidf, again using gensim.models.LdaMulticore()\n",
    "'''\n",
    "# TODO\n",
    "lda_model_tfidf = "
   ]
  },
  {
   "cell_type": "code",
   "execution_count": null,
   "metadata": {},
   "outputs": [],
   "source": [
    "'''\n",
    "For each topic, we will explore the words occuring in that topic and its relative weight\n",
    "'''\n",
    "for idx, topic in lda_model_tfidf.print_topics(-1):\n",
    "    print(\"Topic: {} Word: {}\".format(idx, topic))\n",
    "    print(\"\\n\")"
   ]
  },
  {
   "cell_type": "code",
   "execution_count": null,
   "metadata": {},
   "outputs": [],
   "source": [
    "# charting the word occurence in various topics\n",
    "\n",
    "trans_type = data.groupby(['transaction_type']).transaction_type.count()\n",
    "fig_trans, axes_trans = plt.subplots(nrows = 1, ncols = 2, figsize = (20,7))\n",
    "fig_trans.suptitle(\"Transactions by transaction type\", fontsize=\"x-large\")\n",
    "\n",
    "axes_trans[0].set(title = \"Number of transactions by transaction type\",\n",
    "                  xlabel = \"Transaction type\", ylabel = \"Number of Transactions\")\n",
    "axes_trans[0].bar(x = trans_type.index, height = trans_type.values)\n",
    "for i, v in enumerate(trans_type):\n",
    "    #print (i, v)\n",
    "    axes_trans[0].text(i-.15, v+5000, str(v))\n",
    "    \n",
    "axes_trans[1].set(title = \"Number of transactions by transaction type\")\n",
    "axes_trans[1].pie(x = trans_type, \n",
    "                  labels = list(trans_type.index), \n",
    "                     autopct = '%1.1f%%', \n",
    "                     explode= (0.05, 0.2, 0.1, 0.1, 0.0))\n",
    "axes_trans[1].axis('equal')\n",
    "\n",
    "plt.show()"
   ]
  },
  {
   "cell_type": "markdown",
   "metadata": {},
   "source": [
    "### Classification of the topics ###\n",
    "\n",
    "As we can see, when using tf-idf, heavier weights are given to words that are not as frequent which results in nouns being factored in. That makes it harder to figure out the categories as nouns can be hard to categorize. This goes to show that the models we apply depend on the type of corpus of text we are dealing with. \n",
    "\n",
    "Using the words in each topic and their corresponding weights, what categories could you find?\n",
    "\n",
    "* 0: \n",
    "* 1:  \n",
    "* 2: \n",
    "* 3: \n",
    "* 4:  \n",
    "* 5: \n",
    "* 6: \n",
    "* 7: \n",
    "* 8: \n",
    "* 9: "
   ]
  },
  {
   "cell_type": "markdown",
   "metadata": {},
   "source": [
    "## Step 5.1: Performance evaluation by classifying sample document using LDA Bag of Words model##\n",
    "\n",
    "We will check to see where our test document would be classified. "
   ]
  },
  {
   "cell_type": "code",
   "execution_count": null,
   "metadata": {},
   "outputs": [],
   "source": [
    "'''\n",
    "Text of sample document 4310\n",
    "'''\n",
    "processed_docs[4310]"
   ]
  },
  {
   "cell_type": "code",
   "execution_count": null,
   "metadata": {},
   "outputs": [],
   "source": [
    "'''\n",
    "Check which topic our test document belongs to using the LDA Bag of Words model.\n",
    "'''\n",
    "document_num = 4310\n",
    "# Our test document is document number 4310\n",
    "\n",
    "# TODO\n",
    "# Our test document is document number 4310\n",
    "for index, score in sorted(lda_model[bow_corpus[document_num]], key=lambda tup: -1*tup[1]):\n",
    "    print(\"\\nScore: {}\\t \\nTopic: {}\".format(score, lda_model.print_topic(index, 10)))"
   ]
  },
  {
   "cell_type": "markdown",
   "metadata": {},
   "source": [
    "### It has the highest probability (`x`) to be  part of the topic that we assigned as X, which is the accurate classification. ###"
   ]
  },
  {
   "cell_type": "markdown",
   "metadata": {},
   "source": [
    "## Step 5.2: Performance evaluation by classifying sample document using LDA TF-IDF model##"
   ]
  },
  {
   "cell_type": "code",
   "execution_count": null,
   "metadata": {},
   "outputs": [],
   "source": [
    "'''\n",
    "Check which topic our test document belongs to using the LDA TF-IDF model.\n",
    "'''\n",
    "# Our test document is document number 4310\n",
    "for index, score in sorted(lda_model_tfidf[bow_corpus[document_num]], key=lambda tup: -1*tup[1]):\n",
    "    print(\"\\nScore: {}\\t \\nTopic: {}\".format(score, lda_model_tfidf.print_topic(index, 10)))"
   ]
  },
  {
   "cell_type": "markdown",
   "metadata": {},
   "source": [
    "### It has the highest probability (`x%`) to be  part of the topic that we assigned as X. ###"
   ]
  },
  {
   "cell_type": "markdown",
   "metadata": {},
   "source": [
    "## Step 6: Testing model on unseen document ##"
   ]
  },
  {
   "cell_type": "code",
   "execution_count": null,
   "metadata": {},
   "outputs": [],
   "source": [
    "unseen_document = \"My favorite sports activities are running and swimming.\"\n",
    "\n",
    "# Data preprocessing step for the unseen document\n",
    "bow_vector = dictionary.doc2bow(preprocess(unseen_document))\n",
    "\n",
    "for index, score in sorted(lda_model[bow_vector], key=lambda tup: -1*tup[1]):\n",
    "    print(\"Score: {}\\t Topic: {}\".format(score, lda_model.print_topic(index, 5)))"
   ]
  },
  {
   "cell_type": "markdown",
   "metadata": {},
   "source": [
    "The model correctly classifies the unseen document with 'x'% probability to the X category."
   ]
  }
 ],
 "metadata": {
  "kernelspec": {
   "display_name": "Python 3",
   "language": "python",
   "name": "python3"
  },
  "language_info": {
   "codemirror_mode": {
    "name": "ipython",
    "version": 3
   },
   "file_extension": ".py",
   "mimetype": "text/x-python",
   "name": "python",
   "nbconvert_exporter": "python",
   "pygments_lexer": "ipython3",
   "version": "3.6.8"
  }
 },
 "nbformat": 4,
 "nbformat_minor": 1
}
